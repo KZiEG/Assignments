{
  "cells": [
    {
      "attachments": {},
      "cell_type": "markdown",
      "metadata": {
        "collapsed": false,
        "id": "TX_-QfCapg5r"
      },
      "source": [
        "## CMTH642 - Data Analytics: Advanced Methods  \n",
        "### Assignment 3 \n",
        "### McKenzie Gowing\n"
      ]
    },
    {
      "cell_type": "markdown",
      "metadata": {
        "id": "KPUF4R_NlrMT"
      },
      "source": [
        "Assignment 3 is worth 10% of the final grade. Submit the ipynb file and a generated output file (PDF or HTML). Failing to submit both files will be subject to a mark deduction.\n",
        "\n",
        "Your output file should include all the tables, plots, and requested figures/values. \n",
        "\n",
        "Printing the lengthy outputs (e.g., the whole data frame or a list with more than 100 elements) will have a deduction of 5 points. Instead, please use head() or tail() to have a neat output. \n",
        "\n",
        "If you preprocess the data in a question, you should continue with the same dataset in the following questions unless otherwise mentioned.\n"
      ]
    },
    {
      "cell_type": "markdown",
      "metadata": {
        "id": "s2h0BVIqmIpE"
      },
      "source": [
        "### Preparation: \n",
        "\n",
        "The dataset is related to Portuguese \"Vinho Verde\" wines. For more info:\n",
        "https://archive.ics.uci.edu/ml/datasets/Wine+Quality\n",
        "\n",
        "Import the following files:\n",
        "http://archive.ics.uci.edu/ml/machine-learning-databases/wine-quality/winequality-white.csv    \n",
        "http://archive.ics.uci.edu/ml/machine-learning-databases/wine-quality/winequality-red.csv\n"
      ]
    },
    {
      "cell_type": "markdown",
      "metadata": {
        "id": "xm7GwIpdH12O"
      },
      "source": [
        "### Question 1\n",
        "Join the red wine and white wine datasets by adding the rows of one to the other. Assign the joined data to a data frame and name it wine_data_all. (2 points)\n",
        "\n",
        "The following questions will be answered for wine_data_all.\n",
        "\n"
      ]
    },
    {
      "cell_type": "code",
      "execution_count": 19,
      "metadata": {},
      "outputs": [],
      "source": [
        "# INSERT YOUR ANSWER HERE\n",
        "import pandas as pd\n",
        "import numpy  as np\n",
        "from sklearn.linear_model import LogisticRegression\n",
        "from sklearn.metrics import accuracy_score ,confusion_matrix, precision_score, recall_score\n",
        "from sklearn.neighbors import KNeighborsClassifier\n",
        "from sklearn.utils.multiclass import unique_labels\n",
        "\n",
        "\n",
        "\n",
        "whiteWine='http://archive.ics.uci.edu/ml/machine-learning-databases/wine-quality/winequality-white.csv'\n",
        "redWine='http://archive.ics.uci.edu/ml/machine-learning-databases/wine-quality/winequality-red.csv'\n",
        "\n",
        "whiteWine=pd.read_csv(whiteWine,sep=';')\n",
        "redWine=pd.read_csv(redWine,sep=';')\n",
        "\n",
        "wine_data_all=pd.concat([whiteWine,redWine])\n",
        "\n"
      ]
    },
    {
      "cell_type": "markdown",
      "metadata": {
        "id": "_s6g0tee67kr"
      },
      "source": [
        "### Question 2\n",
        "Check the data types of the attributes. (2 points)"
      ]
    },
    {
      "cell_type": "code",
      "execution_count": 20,
      "metadata": {
        "id": "PtwZ55_KNq5l"
      },
      "outputs": [
        {
          "data": {
            "text/plain": [
              "fixed acidity           float64\n",
              "volatile acidity        float64\n",
              "citric acid             float64\n",
              "residual sugar          float64\n",
              "chlorides               float64\n",
              "free sulfur dioxide     float64\n",
              "total sulfur dioxide    float64\n",
              "density                 float64\n",
              "pH                      float64\n",
              "sulphates               float64\n",
              "alcohol                 float64\n",
              "quality                   int64\n",
              "dtype: object"
            ]
          },
          "execution_count": 20,
          "metadata": {},
          "output_type": "execute_result"
        }
      ],
      "source": [
        "# INSERT YOUR ANSWER HERE\n",
        "\n",
        "wine_data_all.dtypes"
      ]
    },
    {
      "cell_type": "markdown",
      "metadata": {
        "id": "xAvoOQnu67kv"
      },
      "source": [
        "### Question 3\n",
        "Are there any missing values in the dataset? How many? You should not print the whole dataset. (2 points)"
      ]
    },
    {
      "cell_type": "code",
      "execution_count": 21,
      "metadata": {
        "id": "H_x5heGtNup3"
      },
      "outputs": [
        {
          "name": "stdout",
          "output_type": "stream",
          "text": [
            "fixed acidity           0\n",
            "volatile acidity        0\n",
            "citric acid             0\n",
            "residual sugar          0\n",
            "chlorides               0\n",
            "free sulfur dioxide     0\n",
            "total sulfur dioxide    0\n",
            "density                 0\n",
            "pH                      0\n",
            "sulphates               0\n",
            "alcohol                 0\n",
            "quality                 0\n",
            "dtype: int64\n"
          ]
        }
      ],
      "source": [
        "# INSERT YOUR ANSWER HERE\n",
        "wine_data_all.isnull().any()\n",
        "print(wine_data_all.isnull().sum())\n",
        "\n"
      ]
    },
    {
      "attachments": {},
      "cell_type": "markdown",
      "metadata": {},
      "source": [
        "There are not any missing values in the dataset."
      ]
    },
    {
      "cell_type": "markdown",
      "metadata": {
        "id": "TnITuRoZ67kw"
      },
      "source": [
        "### Question 4\n",
        "What is the correlation between the attributes other than Quality? (8 points)"
      ]
    },
    {
      "cell_type": "code",
      "execution_count": 22,
      "metadata": {
        "id": "OBNJFgKrNt8t"
      },
      "outputs": [
        {
          "data": {
            "text/html": [
              "<div>\n",
              "<style scoped>\n",
              "    .dataframe tbody tr th:only-of-type {\n",
              "        vertical-align: middle;\n",
              "    }\n",
              "\n",
              "    .dataframe tbody tr th {\n",
              "        vertical-align: top;\n",
              "    }\n",
              "\n",
              "    .dataframe thead th {\n",
              "        text-align: right;\n",
              "    }\n",
              "</style>\n",
              "<table border=\"1\" class=\"dataframe\">\n",
              "  <thead>\n",
              "    <tr style=\"text-align: right;\">\n",
              "      <th></th>\n",
              "      <th>fixed acidity</th>\n",
              "      <th>volatile acidity</th>\n",
              "      <th>citric acid</th>\n",
              "      <th>residual sugar</th>\n",
              "      <th>chlorides</th>\n",
              "      <th>free sulfur dioxide</th>\n",
              "      <th>total sulfur dioxide</th>\n",
              "      <th>density</th>\n",
              "      <th>pH</th>\n",
              "      <th>sulphates</th>\n",
              "      <th>alcohol</th>\n",
              "    </tr>\n",
              "  </thead>\n",
              "  <tbody>\n",
              "    <tr>\n",
              "      <th>fixed acidity</th>\n",
              "      <td>1.000000</td>\n",
              "      <td>0.219008</td>\n",
              "      <td>0.324436</td>\n",
              "      <td>-0.111981</td>\n",
              "      <td>0.298195</td>\n",
              "      <td>-0.282735</td>\n",
              "      <td>-0.329054</td>\n",
              "      <td>0.458910</td>\n",
              "      <td>-0.252700</td>\n",
              "      <td>0.299568</td>\n",
              "      <td>-0.095452</td>\n",
              "    </tr>\n",
              "    <tr>\n",
              "      <th>volatile acidity</th>\n",
              "      <td>0.219008</td>\n",
              "      <td>1.000000</td>\n",
              "      <td>-0.377981</td>\n",
              "      <td>-0.196011</td>\n",
              "      <td>0.377124</td>\n",
              "      <td>-0.352557</td>\n",
              "      <td>-0.414476</td>\n",
              "      <td>0.271296</td>\n",
              "      <td>0.261454</td>\n",
              "      <td>0.225984</td>\n",
              "      <td>-0.037640</td>\n",
              "    </tr>\n",
              "    <tr>\n",
              "      <th>citric acid</th>\n",
              "      <td>0.324436</td>\n",
              "      <td>-0.377981</td>\n",
              "      <td>1.000000</td>\n",
              "      <td>0.142451</td>\n",
              "      <td>0.038998</td>\n",
              "      <td>0.133126</td>\n",
              "      <td>0.195242</td>\n",
              "      <td>0.096154</td>\n",
              "      <td>-0.329808</td>\n",
              "      <td>0.056197</td>\n",
              "      <td>-0.010493</td>\n",
              "    </tr>\n",
              "    <tr>\n",
              "      <th>residual sugar</th>\n",
              "      <td>-0.111981</td>\n",
              "      <td>-0.196011</td>\n",
              "      <td>0.142451</td>\n",
              "      <td>1.000000</td>\n",
              "      <td>-0.128940</td>\n",
              "      <td>0.402871</td>\n",
              "      <td>0.495482</td>\n",
              "      <td>0.552517</td>\n",
              "      <td>-0.267320</td>\n",
              "      <td>-0.185927</td>\n",
              "      <td>-0.359415</td>\n",
              "    </tr>\n",
              "    <tr>\n",
              "      <th>chlorides</th>\n",
              "      <td>0.298195</td>\n",
              "      <td>0.377124</td>\n",
              "      <td>0.038998</td>\n",
              "      <td>-0.128940</td>\n",
              "      <td>1.000000</td>\n",
              "      <td>-0.195045</td>\n",
              "      <td>-0.279630</td>\n",
              "      <td>0.362615</td>\n",
              "      <td>0.044708</td>\n",
              "      <td>0.395593</td>\n",
              "      <td>-0.256916</td>\n",
              "    </tr>\n",
              "    <tr>\n",
              "      <th>free sulfur dioxide</th>\n",
              "      <td>-0.282735</td>\n",
              "      <td>-0.352557</td>\n",
              "      <td>0.133126</td>\n",
              "      <td>0.402871</td>\n",
              "      <td>-0.195045</td>\n",
              "      <td>1.000000</td>\n",
              "      <td>0.720934</td>\n",
              "      <td>0.025717</td>\n",
              "      <td>-0.145854</td>\n",
              "      <td>-0.188457</td>\n",
              "      <td>-0.179838</td>\n",
              "    </tr>\n",
              "    <tr>\n",
              "      <th>total sulfur dioxide</th>\n",
              "      <td>-0.329054</td>\n",
              "      <td>-0.414476</td>\n",
              "      <td>0.195242</td>\n",
              "      <td>0.495482</td>\n",
              "      <td>-0.279630</td>\n",
              "      <td>0.720934</td>\n",
              "      <td>1.000000</td>\n",
              "      <td>0.032395</td>\n",
              "      <td>-0.238413</td>\n",
              "      <td>-0.275727</td>\n",
              "      <td>-0.265740</td>\n",
              "    </tr>\n",
              "    <tr>\n",
              "      <th>density</th>\n",
              "      <td>0.458910</td>\n",
              "      <td>0.271296</td>\n",
              "      <td>0.096154</td>\n",
              "      <td>0.552517</td>\n",
              "      <td>0.362615</td>\n",
              "      <td>0.025717</td>\n",
              "      <td>0.032395</td>\n",
              "      <td>1.000000</td>\n",
              "      <td>0.011686</td>\n",
              "      <td>0.259478</td>\n",
              "      <td>-0.686745</td>\n",
              "    </tr>\n",
              "    <tr>\n",
              "      <th>pH</th>\n",
              "      <td>-0.252700</td>\n",
              "      <td>0.261454</td>\n",
              "      <td>-0.329808</td>\n",
              "      <td>-0.267320</td>\n",
              "      <td>0.044708</td>\n",
              "      <td>-0.145854</td>\n",
              "      <td>-0.238413</td>\n",
              "      <td>0.011686</td>\n",
              "      <td>1.000000</td>\n",
              "      <td>0.192123</td>\n",
              "      <td>0.121248</td>\n",
              "    </tr>\n",
              "    <tr>\n",
              "      <th>sulphates</th>\n",
              "      <td>0.299568</td>\n",
              "      <td>0.225984</td>\n",
              "      <td>0.056197</td>\n",
              "      <td>-0.185927</td>\n",
              "      <td>0.395593</td>\n",
              "      <td>-0.188457</td>\n",
              "      <td>-0.275727</td>\n",
              "      <td>0.259478</td>\n",
              "      <td>0.192123</td>\n",
              "      <td>1.000000</td>\n",
              "      <td>-0.003029</td>\n",
              "    </tr>\n",
              "    <tr>\n",
              "      <th>alcohol</th>\n",
              "      <td>-0.095452</td>\n",
              "      <td>-0.037640</td>\n",
              "      <td>-0.010493</td>\n",
              "      <td>-0.359415</td>\n",
              "      <td>-0.256916</td>\n",
              "      <td>-0.179838</td>\n",
              "      <td>-0.265740</td>\n",
              "      <td>-0.686745</td>\n",
              "      <td>0.121248</td>\n",
              "      <td>-0.003029</td>\n",
              "      <td>1.000000</td>\n",
              "    </tr>\n",
              "  </tbody>\n",
              "</table>\n",
              "</div>"
            ],
            "text/plain": [
              "                      fixed acidity  volatile acidity  citric acid  \\\n",
              "fixed acidity              1.000000          0.219008     0.324436   \n",
              "volatile acidity           0.219008          1.000000    -0.377981   \n",
              "citric acid                0.324436         -0.377981     1.000000   \n",
              "residual sugar            -0.111981         -0.196011     0.142451   \n",
              "chlorides                  0.298195          0.377124     0.038998   \n",
              "free sulfur dioxide       -0.282735         -0.352557     0.133126   \n",
              "total sulfur dioxide      -0.329054         -0.414476     0.195242   \n",
              "density                    0.458910          0.271296     0.096154   \n",
              "pH                        -0.252700          0.261454    -0.329808   \n",
              "sulphates                  0.299568          0.225984     0.056197   \n",
              "alcohol                   -0.095452         -0.037640    -0.010493   \n",
              "\n",
              "                      residual sugar  chlorides  free sulfur dioxide  \\\n",
              "fixed acidity              -0.111981   0.298195            -0.282735   \n",
              "volatile acidity           -0.196011   0.377124            -0.352557   \n",
              "citric acid                 0.142451   0.038998             0.133126   \n",
              "residual sugar              1.000000  -0.128940             0.402871   \n",
              "chlorides                  -0.128940   1.000000            -0.195045   \n",
              "free sulfur dioxide         0.402871  -0.195045             1.000000   \n",
              "total sulfur dioxide        0.495482  -0.279630             0.720934   \n",
              "density                     0.552517   0.362615             0.025717   \n",
              "pH                         -0.267320   0.044708            -0.145854   \n",
              "sulphates                  -0.185927   0.395593            -0.188457   \n",
              "alcohol                    -0.359415  -0.256916            -0.179838   \n",
              "\n",
              "                      total sulfur dioxide   density        pH  sulphates  \\\n",
              "fixed acidity                    -0.329054  0.458910 -0.252700   0.299568   \n",
              "volatile acidity                 -0.414476  0.271296  0.261454   0.225984   \n",
              "citric acid                       0.195242  0.096154 -0.329808   0.056197   \n",
              "residual sugar                    0.495482  0.552517 -0.267320  -0.185927   \n",
              "chlorides                        -0.279630  0.362615  0.044708   0.395593   \n",
              "free sulfur dioxide               0.720934  0.025717 -0.145854  -0.188457   \n",
              "total sulfur dioxide              1.000000  0.032395 -0.238413  -0.275727   \n",
              "density                           0.032395  1.000000  0.011686   0.259478   \n",
              "pH                               -0.238413  0.011686  1.000000   0.192123   \n",
              "sulphates                        -0.275727  0.259478  0.192123   1.000000   \n",
              "alcohol                          -0.265740 -0.686745  0.121248  -0.003029   \n",
              "\n",
              "                       alcohol  \n",
              "fixed acidity        -0.095452  \n",
              "volatile acidity     -0.037640  \n",
              "citric acid          -0.010493  \n",
              "residual sugar       -0.359415  \n",
              "chlorides            -0.256916  \n",
              "free sulfur dioxide  -0.179838  \n",
              "total sulfur dioxide -0.265740  \n",
              "density              -0.686745  \n",
              "pH                    0.121248  \n",
              "sulphates            -0.003029  \n",
              "alcohol               1.000000  "
            ]
          },
          "execution_count": 22,
          "metadata": {},
          "output_type": "execute_result"
        }
      ],
      "source": [
        "# INSERT YOUR ANSWER HERE\n",
        "correlation_1=wine_data_all.drop(columns=['quality'])\n",
        "correlation_1_matrix=correlation_1.corr()\n",
        "correlation_1_matrix\n"
      ]
    },
    {
      "attachments": {},
      "cell_type": "markdown",
      "metadata": {},
      "source": [
        "The following pairs have the strongest correlation coefficients:\n",
        "\n",
        "|Attribute Pair|Coefficient|Correlation Coefficient|\n",
        "|---------------|----------|-----------------------|\n",
        "|free sulfur dioxide - total sulfur dioxide|0.720934|Strong Correlation| \n",
        "|residual sugar - density|0.552517|Moderate Correlation|\n",
        "|total sulfur dioxide - residual sugar|0.495482|Moderate Correlation|\n",
        "|fixed acidity - density|0.458910|Moderate Correlation|\n",
        "|free sulfur dioxide - residual sugar|0.402871|Moderate Correlation|\n",
        "\n",
        "* Free sulfer dioxide & total sulfur dioxide have the strongest correlation."
      ]
    },
    {
      "cell_type": "markdown",
      "metadata": {
        "id": "DVh2ZDUr67ky"
      },
      "source": [
        "### Question 5\n",
        "Plot the frequency distribution of wine quality by using the Quality attribute. (8 points)"
      ]
    },
    {
      "cell_type": "code",
      "execution_count": 23,
      "metadata": {
        "id": "cTS30S-ONzCA"
      },
      "outputs": [
        {
          "data": {
            "image/png": "[encoded data removed]",
            "text/plain": [
              "<Figure size 432x288 with 1 Axes>"
            ]
          },
          "metadata": {
            "needs_background": "light"
          },
          "output_type": "display_data"
        }
      ],
      "source": [
        "# INSERT YOUR ANSWER HERE\n",
        "import matplotlib.pyplot as plt\n",
        "\n",
        "\n",
        "quality_count = wine_data_all['quality'].value_counts()\n",
        "quality_count = quality_count.sort_index()\n",
        "\n",
        "plt.bar(quality_count.index,quality_count.values)\n",
        "\n",
        "plt.title('Q5. Distribution of Wine Quality')\n",
        "plt.xlabel('Quality')\n",
        "plt.ylabel('Frequency')\n",
        "\n",
        "plt.show()\n"
      ]
    },
    {
      "cell_type": "markdown",
      "metadata": {
        "id": "-rwkqF6f67k0"
      },
      "source": [
        "### Question 6\n",
        "Reduce the levels of rating for quality to two levels, Pass and Fail. Assign the levels 3, 4, and 5 to level Fail; and 6, 7, 8, and 9 to level Pass. (10\n",
        "points)"
      ]
    },
    {
      "cell_type": "code",
      "execution_count": 24,
      "metadata": {
        "id": "X-RWR6X8NyK8"
      },
      "outputs": [],
      "source": [
        "# INSERT YOUR ANSWER HERE\n",
        "\n",
        "def pass_fail(quality):\n",
        "    if quality in [3,4,5]: \n",
        "        return 'fail'\n",
        "    else: \n",
        "        return \"Pass\"\n",
        "\n",
        "wine_data_all['Pass_Fail'] = wine_data_all['quality'].apply(pass_fail)\n"
      ]
    },
    {
      "cell_type": "markdown",
      "metadata": {
        "id": "Uw_zd-JM67k1"
      },
      "source": [
        "### Question 7\n",
        "Normalize the numeric attributes. Hint: (x - min(x)) / (max(x) - min(x)) (10 points)"
      ]
    },
    {
      "cell_type": "code",
      "execution_count": 25,
      "metadata": {
        "id": "hw2B1opoN6eI"
      },
      "outputs": [
        {
          "name": "stdout",
          "output_type": "stream",
          "text": [
            "   fixed acidity  volatile acidity  citric acid  residual sugar  chlorides  \\\n",
            "0       0.264463          0.126667     0.216867        0.308282   0.059801   \n",
            "1       0.206612          0.146667     0.204819        0.015337   0.066445   \n",
            "2       0.355372          0.133333     0.240964        0.096626   0.068106   \n",
            "3       0.280992          0.100000     0.192771        0.121166   0.081395   \n",
            "4       0.280992          0.100000     0.192771        0.121166   0.081395   \n",
            "\n",
            "   free sulfur dioxide  total sulfur dioxide   density        pH  sulphates  \\\n",
            "0             0.152778              0.377880  0.267785  0.217054   0.129213   \n",
            "1             0.045139              0.290323  0.132832  0.449612   0.151685   \n",
            "2             0.100694              0.209677  0.154039  0.418605   0.123596   \n",
            "3             0.159722              0.414747  0.163678  0.364341   0.101124   \n",
            "4             0.159722              0.414747  0.163678  0.364341   0.101124   \n",
            "\n",
            "    alcohol  quality Pass_Fail  \n",
            "0  0.115942        6      Pass  \n",
            "1  0.217391        6      Pass  \n",
            "2  0.304348        6      Pass  \n",
            "3  0.275362        6      Pass  \n",
            "4  0.275362        6      Pass  \n"
          ]
        }
      ],
      "source": [
        "# INSERT YOUR ANSWER HERE\n",
        "\n",
        "def min_max_normalize(x):\n",
        "    return (x - x.min()) / (x.max() - x.min())\n",
        "\n",
        "wine_data_all['fixed acidity'] = min_max_normalize(wine_data_all['fixed acidity'])\n",
        "wine_data_all['volatile acidity'] = min_max_normalize(wine_data_all['volatile acidity'])\n",
        "wine_data_all['citric acid'] = min_max_normalize(wine_data_all['citric acid'])\n",
        "wine_data_all['residual sugar'] = min_max_normalize(wine_data_all['residual sugar'])\n",
        "wine_data_all['chlorides'] = min_max_normalize(wine_data_all['chlorides'])\n",
        "wine_data_all['free sulfur dioxide'] = min_max_normalize(wine_data_all['free sulfur dioxide'])\n",
        "wine_data_all['total sulfur dioxide'] = min_max_normalize(wine_data_all['total sulfur dioxide'])\n",
        "wine_data_all['density'] = min_max_normalize(wine_data_all['density'])\n",
        "wine_data_all['pH'] = min_max_normalize(wine_data_all['pH'])\n",
        "wine_data_all['sulphates'] = min_max_normalize(wine_data_all['sulphates'])\n",
        "wine_data_all['alcohol'] = min_max_normalize(wine_data_all['alcohol'])\n",
        "\n",
        "\n",
        "print(wine_data_all.head())"
      ]
    },
    {
      "attachments": {},
      "cell_type": "markdown",
      "metadata": {
        "id": "t0MbenQb67k2"
      },
      "source": [
        "### Question 8\n",
        "Divide the dataset to training and test sets. (10 points)"
      ]
    },
    {
      "cell_type": "code",
      "execution_count": 26,
      "metadata": {
        "id": "9CnlI4X7N4nQ"
      },
      "outputs": [
        {
          "name": "stdout",
          "output_type": "stream",
          "text": [
            "Training dataset length is  4344 and test dataset length is 2153\n",
            "fixed acidity           float64\n",
            "volatile acidity        float64\n",
            "citric acid             float64\n",
            "residual sugar          float64\n",
            "chlorides               float64\n",
            "free sulfur dioxide     float64\n",
            "total sulfur dioxide    float64\n",
            "density                 float64\n",
            "pH                      float64\n",
            "sulphates               float64\n",
            "alcohol                 float64\n",
            "quality                   int64\n",
            "Pass_Fail                object\n",
            "dtype: object\n"
          ]
        }
      ],
      "source": [
        "# INSERT YOUR ANSWER HERE\n",
        "\n",
        "nrows=len(wine_data_all)\n",
        "\n",
        "train_T_F =np.random.rand(nrows) < 0.65\n",
        "\n",
        "WineTrainDS = wine_data_all[train_T_F]\n",
        "WineTestDS = wine_data_all[~train_T_F]\n",
        "\n",
        "\n",
        "print(\"Training dataset length is \",len(WineTrainDS), \"and test dataset length is\", len(WineTestDS))\n"
      ]
    },
    {
      "cell_type": "markdown",
      "metadata": {
        "id": "Z0-NvzsYno7l"
      },
      "source": [
        "### Question 9\n",
        "Use the Logistic Regression algorithm to predict the quality of wine using its attributes. (12 points)"
      ]
    },
    {
      "cell_type": "code",
      "execution_count": 30,
      "metadata": {
        "id": "u7Zt02kjN29X"
      },
      "outputs": [
        {
          "name": "stderr",
          "output_type": "stream",
          "text": [
            "c:\\Users\\User\\AppData\\Local\\Programs\\Python\\Python310\\lib\\site-packages\\sklearn\\linear_model\\_logistic.py:444: ConvergenceWarning: lbfgs failed to converge (status=1):\n",
            "STOP: TOTAL NO. of ITERATIONS REACHED LIMIT.\n",
            "\n",
            "Increase the number of iterations (max_iter) or scale the data as shown in:\n",
            "    https://scikit-learn.org/stable/modules/preprocessing.html\n",
            "Please also refer to the documentation for alternative solver options:\n",
            "    https://scikit-learn.org/stable/modules/linear_model.html#logistic-regression\n",
            "  n_iter_i = _check_optimize_result(\n"
          ]
        }
      ],
      "source": [
        "# INSERT YOUR ANSWER HERE\n",
        "\n",
        "logRegression=LogisticRegression()\n",
        "\n",
        "logRegression.fit(WineTrainDS.drop(columns=['quality','Pass_Fail']),WineTrainDS['quality'])\n",
        "WinePrediction = logRegression.predict(WineTestDS.drop(columns=['quality','Pass_Fail']))\n"
      ]
    },
    {
      "cell_type": "markdown",
      "metadata": {
        "id": "UtVW9Wqi67k5"
      },
      "source": [
        "### Question 10\n",
        "Use the KNN algorithm to predict the quality of wine using its attributes. (12 points)"
      ]
    },
    {
      "cell_type": "code",
      "execution_count": 31,
      "metadata": {
        "id": "y_HYHeryN74o"
      },
      "outputs": [],
      "source": [
        "# INSERT YOUR ANSWER HERE\n",
        "knn = KNeighborsClassifier(n_neighbors=10)\n",
        "knn.fit(WineTrainDS.drop(columns=['quality','Pass_Fail']), WineTrainDS['quality'])\n",
        "WineKnn_pred = knn.predict(WineTestDS.drop(columns= ['quality','Pass_Fail']))\n",
        "\n"
      ]
    },
    {
      "cell_type": "markdown",
      "metadata": {
        "id": "5_QQUorI67k8"
      },
      "source": [
        "### Question 11\n",
        "Display two confusion matrices to evaluate the performances of Logistic Regression and KNN. (A simple matrix is enough. No need to plot it.) (12 points)"
      ]
    },
    {
      "cell_type": "code",
      "execution_count": 37,
      "metadata": {},
      "outputs": [
        {
          "name": "stdout",
          "output_type": "stream",
          "text": [
            "Knn Plot          Predict3  Predict4  Predict5  Predict6  Predict7  Predict8  Predict9\n",
            "Actual3         0         0         7         4         0         0         0\n",
            "Actual4         0         3        37        21         3         0         0\n",
            "Actual5         0         5       469       212        18         0         0\n",
            "Actual6         0         1       245       599        98         7         0\n",
            "Actual7         0         1        23       194       136         4         0\n",
            "Actual8         0         0         2        24        37         2         0\n",
            "Actual9         0         0         0         1         0         0         0\n"
          ]
        }
      ],
      "source": [
        "def plotmatrix(value,pred):\n",
        "    labels=unique_labels(value)\n",
        "    col = [f'Predict{label}' for label in labels]\n",
        "    indi = [f'Actual{label}' for label in labels]\n",
        "    table = pd.DataFrame(confusion_matrix(value,pred),\n",
        "                         columns=col,index=indi )\n",
        "    return table\n",
        "\n",
        "print('Knn Plot', plotmatrix(WineTestDS['quality'],WineKnn_pred))"
      ]
    },
    {
      "cell_type": "code",
      "execution_count": 38,
      "metadata": {},
      "outputs": [
        {
          "name": "stdout",
          "output_type": "stream",
          "text": [
            "Regression plot          Predict3  Predict4  Predict5  Predict6  Predict7  Predict8  Predict9\n",
            "Actual3         0         0         7         4         0         0         0\n",
            "Actual4         0         0        41        22         1         0         0\n",
            "Actual5         0         0       425       279         0         0         0\n",
            "Actual6         0         0       215       693        42         0         0\n",
            "Actual7         0         0        27       277        54         0         0\n",
            "Actual8         0         0         6        44        15         0         0\n",
            "Actual9         0         0         0         0         1         0         0\n"
          ]
        }
      ],
      "source": [
        "print('Regression plot',plotmatrix(WineTestDS['quality'],WinePrediction ) )"
      ]
    },
    {
      "cell_type": "markdown",
      "metadata": {
        "id": "O0kvru8vIr5y"
      },
      "source": [
        "### Question 12\n",
        "Evaluate the models’ performances by computing Accuracy, Precision, and Recall. If you are using a package to calculate the values, you should explain what you understand from the output of the package by mentioning the exact accuracy, precision, and recall values in your own words. (12 points)\n"
      ]
    },
    {
      "cell_type": "code",
      "execution_count": 44,
      "metadata": {
        "id": "UZXatoOkN_Bd"
      },
      "outputs": [
        {
          "name": "stdout",
          "output_type": "stream",
          "text": [
            "              precision    recall  f1-score   support\n",
            "\n",
            "           3       0.00      0.00      0.00        11\n",
            "           4       0.00      0.00      0.00        64\n",
            "           5       0.59      0.60      0.60       704\n",
            "           6       0.53      0.73      0.61       950\n",
            "           7       0.48      0.15      0.23       358\n",
            "           8       0.00      0.00      0.00        65\n",
            "           9       0.00      0.00      0.00         1\n",
            "\n",
            "    accuracy                           0.54      2153\n",
            "   macro avg       0.23      0.21      0.21      2153\n",
            "weighted avg       0.50      0.54      0.50      2153\n",
            "\n"
          ]
        },
        {
          "name": "stderr",
          "output_type": "stream",
          "text": [
            "c:\\Users\\User\\AppData\\Local\\Programs\\Python\\Python310\\lib\\site-packages\\sklearn\\metrics\\_classification.py:1327: UndefinedMetricWarning: Precision and F-score are ill-defined and being set to 0.0 in labels with no predicted samples. Use `zero_division` parameter to control this behavior.\n",
            "  _warn_prf(average, modifier, msg_start, len(result))\n",
            "c:\\Users\\User\\AppData\\Local\\Programs\\Python\\Python310\\lib\\site-packages\\sklearn\\metrics\\_classification.py:1327: UndefinedMetricWarning: Precision and F-score are ill-defined and being set to 0.0 in labels with no predicted samples. Use `zero_division` parameter to control this behavior.\n",
            "  _warn_prf(average, modifier, msg_start, len(result))\n",
            "c:\\Users\\User\\AppData\\Local\\Programs\\Python\\Python310\\lib\\site-packages\\sklearn\\metrics\\_classification.py:1327: UndefinedMetricWarning: Precision and F-score are ill-defined and being set to 0.0 in labels with no predicted samples. Use `zero_division` parameter to control this behavior.\n",
            "  _warn_prf(average, modifier, msg_start, len(result))\n"
          ]
        }
      ],
      "source": [
        "# Logistic Regression\n",
        "from sklearn.metrics import classification_report\n",
        "print(classification_report(WineTestDS['quality'],WinePrediction))\n"
      ]
    },
    {
      "cell_type": "code",
      "execution_count": 43,
      "metadata": {},
      "outputs": [
        {
          "name": "stdout",
          "output_type": "stream",
          "text": [
            "              precision    recall  f1-score   support\n",
            "\n",
            "           3       0.00      0.00      0.00        11\n",
            "           4       0.30      0.05      0.08        64\n",
            "           5       0.60      0.67      0.63       704\n",
            "           6       0.57      0.63      0.60       950\n",
            "           7       0.47      0.38      0.42       358\n",
            "           8       0.15      0.03      0.05        65\n",
            "           9       0.00      0.00      0.00         1\n",
            "\n",
            "    accuracy                           0.56      2153\n",
            "   macro avg       0.30      0.25      0.25      2153\n",
            "weighted avg       0.54      0.56      0.54      2153\n",
            "\n"
          ]
        },
        {
          "name": "stderr",
          "output_type": "stream",
          "text": [
            "c:\\Users\\User\\AppData\\Local\\Programs\\Python\\Python310\\lib\\site-packages\\sklearn\\metrics\\_classification.py:1327: UndefinedMetricWarning: Precision and F-score are ill-defined and being set to 0.0 in labels with no predicted samples. Use `zero_division` parameter to control this behavior.\n",
            "  _warn_prf(average, modifier, msg_start, len(result))\n",
            "c:\\Users\\User\\AppData\\Local\\Programs\\Python\\Python310\\lib\\site-packages\\sklearn\\metrics\\_classification.py:1327: UndefinedMetricWarning: Precision and F-score are ill-defined and being set to 0.0 in labels with no predicted samples. Use `zero_division` parameter to control this behavior.\n",
            "  _warn_prf(average, modifier, msg_start, len(result))\n",
            "c:\\Users\\User\\AppData\\Local\\Programs\\Python\\Python310\\lib\\site-packages\\sklearn\\metrics\\_classification.py:1327: UndefinedMetricWarning: Precision and F-score are ill-defined and being set to 0.0 in labels with no predicted samples. Use `zero_division` parameter to control this behavior.\n",
            "  _warn_prf(average, modifier, msg_start, len(result))\n"
          ]
        }
      ],
      "source": [
        "from sklearn.metrics import classification_report\n",
        "print(classification_report(WineTestDS['quality'],WineKnn_pred))"
      ]
    },
    {
      "attachments": {},
      "cell_type": "markdown",
      "metadata": {},
      "source": [
        "The classification_report function shows the overall accuarcy, recall and preceision for each of the WineQualities. \n",
        "\n",
        "**Accuarcy**: Accuracy is used to understand the proportion of predictions we will get correct. The accuracy is higher for the KNN model.The overall accuarcy of the regression model shows that is accurately predicts the wine quality 54% of the time and the KNN model accurately predicts the wine quality 56% of the time. \n",
        "\n",
        "**Precision**: \n",
        "* Precision is the datapoints that we predicted as positive that are truely positive/correct. We see that for the regression model wine quality 5 & 6 have have the highest precisions, being 59% of wine quality 5 and 53% of wine quality 6. With the KNN model we see that again wine quality 5 & 6 have the highest precision (60% & 57%) rate but precision rate is higher for these wine qualities in this model than the regression model. \n",
        "\n",
        "**Recall**:\n",
        "* Recall is the proportion of truely positive datapoints when the model predicts positive. In the regression model we see that wine quality 6 has the highest recall rate (73%) even though it has a lower precision than wine quality 5. Based on the recall, the regression is more likely to predict wine quality 5 wrong, than predicting wine quality 6 wrong. However, for the KNN model wine quality 5 has the highest recall rate with 67% followed by wine quality 6 with 63%. \n"
      ]
    },
    {
      "cell_type": "markdown",
      "metadata": {
        "id": "iIvLfsi-bz2Z"
      },
      "source": [
        "This is the end of Assignment 3\n",
        "\n",
        "Ceni Babaoglu, PhD"
      ]
    }
  ],
  "metadata": {
    "colab": {
      "collapsed_sections": [],
      "provenance": []
    },
    "kernelspec": {
      "display_name": "Python 3",
      "language": "python",
      "name": "python3"
    },
    "language_info": {
      "codemirror_mode": {
        "name": "ipython",
        "version": 3
      },
      "file_extension": ".py",
      "mimetype": "text/x-python",
      "name": "python",
      "nbconvert_exporter": "python",
      "pygments_lexer": "ipython3",
      "version": "3.10.4"
    }
  },
  "nbformat": 4,
  "nbformat_minor": 0
}
