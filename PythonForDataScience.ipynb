{
  "cells": [
    {
      "cell_type": "markdown",
      "metadata": {
        "collapsed": false,
        "id": "TX_-QfCapg5r"
      },
      "source": [
        "## CIND830 - Python Programming for Data Science  \n",
        "### Assignment 3 (10% of the final grade)"
      ]
    },
    {
      "cell_type": "markdown",
      "metadata": {
        "collapsed": false,
        "id": "U8IqCJzxpg5t"
      },
      "source": [
        "*****\n",
        "This is a Jupyter Notebook document that extends a simple formatting syntax for authoring HTML and PDF.\n",
        "Review [this](https://jupyter-notebook.readthedocs.io/en/stable/notebook.html) website for more details on using Jupyter Notebook.\n",
        "\n",
        "Use the JupyterHub server on the Google Cloud Platform,\n",
        "provided by your designated instructor, for this assignment.\n",
        "Complete the assignment by inserting your Python code wherever you see the string\n",
        "\"#INSERT YOUR ANSWER HERE.\" or \"##CODE HERE##\"\n",
        "\n",
        "When you click the `File` button, from the top navigation bar, then select `Export Notebook As ...`,\n",
        "a document (PDF or HTML format) will be generated that includes\n",
        " both the assignment content and the output of any embedded Python code chunks.\n",
        "\n",
        "Using [these](https://www.ryerson.ca/courses/students/tutorials/assignments/) guidelines,\n",
        "submit **both** the IPYNB and the exported file (PDF or HTML).\n",
        "Failing to submit both files will be subject to mark deduction."
      ]
    },
    {
      "cell_type": "markdown",
      "metadata": {
        "collapsed": false,
        "id": "_w2FpDl5pg5u"
      },
      "source": [
        "*****"
      ]
    },
    {
      "cell_type": "markdown",
      "metadata": {
        "collapsed": false,
        "id": "EgCYUXsUpg5w"
      },
      "source": [
        "### Question 1:"
      ]
    },
    {
      "cell_type": "markdown",
      "metadata": {
        "id": "U8EiOXpFAvO0"
      },
      "source": [
        "**a)** Write a code segment to create and print a two-dimensional 5x4 array (i.e. grid). The elements of the grid should be randomly selected from the inclusive interval \\[-50, 50\\]."
      ]
    },
    {
      "cell_type": "code",
      "execution_count": 1,
      "metadata": {
        "execution": {
          "iopub.execute_input": "2020-11-05T13:44:44.904Z",
          "iopub.status.busy": "2020-11-05T13:44:44.891Z",
          "iopub.status.idle": "2020-11-05T13:44:44.929Z",
          "shell.execute_reply": "2020-11-05T13:44:44.973Z"
        },
        "id": "uDtTitw9AvO1",
        "pycharm": {
          "name": "#%%\n"
        }
      },
      "outputs": [
        {
          "name": "stdout",
          "output_type": "stream",
          "text": [
            "[[-32  13 -18 -38]\n",
            " [-23 -36 -28 -15]\n",
            " [-27  25 -29  27]\n",
            " [-29  36 -11 -29]\n",
            " [ -3   4  30 -35]]\n"
          ]
        },
        {
          "data": {
            "text/plain": [
              "'c:\\\\Users\\\\mcken\\\\Desktop\\\\Big Data Analytics Class\\\\CIND 830\\\\Assignments'"
            ]
          },
          "execution_count": 1,
          "metadata": {},
          "output_type": "execute_result"
        }
      ],
      "source": [
        "#INSERT YOUR ANSWER HERE.\n",
        "import numpy as np \n",
        "ranArr=np.random.randint(-50,50,size=(5,4))\n",
        "print(ranArr)\n",
        "os.getcwd()\n"
      ]
    },
    {
      "cell_type": "code",
      "execution_count": 12,
      "metadata": {},
      "outputs": [
        {
          "name": "stdout",
          "output_type": "stream",
          "text": [
            "830\n"
          ]
        }
      ],
      "source": [
        "class Course: \n",
        "    def code(self, id = '820'):\n",
        "        print(id)\n",
        "P = Course()\n",
        "P.code('830')"
      ]
    },
    {
      "cell_type": "markdown",
      "metadata": {
        "id": "daGGPcbJm4Wf"
      },
      "source": [
        "**b)** Write a code segment that searches the `Grid` object in `Q1a` for all the negative integers, and prints them."
      ]
    },
    {
      "cell_type": "code",
      "execution_count": 2,
      "metadata": {
        "id": "i69O_-x4m4zX"
      },
      "outputs": [
        {
          "name": "stdout",
          "output_type": "stream",
          "text": [
            "[-38, -44, -13, -27, -3, -17, -9, -20, -36, -43]\n"
          ]
        }
      ],
      "source": [
        "negtiveNum=[]\n",
        "len(ranArr)\n",
        "for i in ranArr:\n",
        "    for nm in i:\n",
        "        if nm <0: \n",
        "            negtiveNum.append(nm)\n",
        "print(negtiveNum)"
      ]
    },
    {
      "cell_type": "markdown",
      "metadata": {
        "collapsed": false,
        "id": "xC08P3Mvpg6C"
      },
      "source": [
        "**c)** Given that `iList = [1, -1, 2, -2]`, add each element of `iList` to its corresponding element of `Q1a` `Grid` row-wise.  \n",
        "\n",
        "For example, if the Grid is equal to: $$\\begin{pmatrix} 1 & 2 & 1 & 1 \\\\ 3 & 0 & 1 & 6 \\\\ 0 & 2 & 4 & 6 \\\\ 4 & 5 &0 & 2 \\\\ 3 & 6 & 4 & 3 \\end{pmatrix}$$\n",
        "\n",
        "Then the output should be:\n",
        "$$\\begin{pmatrix} 1+1 & 2-1 & 1+2 & 1-2 \\\\ 3+1 & 0-1 & 1+2 & 6-2 \\\\ 0+1 & 2-1 & 4+2 & 6-2 \\\\ 4+1 & 5-1 &0+2 & 2-2 \\\\ 3+1 & 6-1 & 4+2 & 3-2 \\end{pmatrix}$$"
      ]
    },
    {
      "cell_type": "code",
      "execution_count": 60,
      "metadata": {
        "id": "MVoBD9X1pg6D",
        "pycharm": {
          "name": "#%%\n"
        },
        "tags": []
      },
      "outputs": [
        {
          "name": "stdout",
          "output_type": "stream",
          "text": [
            "[[-29 -46 -16  49]\n",
            " [ 18 -31 -39 -48]\n",
            " [-37  48  11 -38]\n",
            " [-24  33 -22  10]\n",
            " [ 48 -25 -41 -45]]\n",
            "\n",
            " [[-28 -47 -14  47]\n",
            " [ 19 -32 -37 -50]\n",
            " [-36  47  13 -40]\n",
            " [-23  32 -20   8]\n",
            " [ 49 -26 -39 -47]]\n"
          ]
        }
      ],
      "source": [
        "ranArrCopy = ranArr.copy()\n",
        "iList=[1,-1,2,-2]\n",
        "print(ranArrCopy)\n",
        "ranArrCopy=ranArrCopy+iList\n",
        "print(\"\\n\",ranArrCopy)\n"
      ]
    },
    {
      "cell_type": "markdown",
      "metadata": {
        "id": "3VHOL8GT2yQ8"
      },
      "source": [
        "**d)** Write a code segment that creates a ragged grid with three rows.  The first row contains 2 positions, the second row contains 4 positions, and the third row contains 6 positions. "
      ]
    },
    {
      "cell_type": "code",
      "execution_count": 3,
      "metadata": {
        "id": "FrOOUeqM2xqN"
      },
      "outputs": [
        {
          "name": "stdout",
          "output_type": "stream",
          "text": [
            "\n",
            "None None \n",
            "None None None None \n",
            "None None None None None None \n",
            "\n"
          ]
        }
      ],
      "source": [
        "#Array class\n",
        "class nArray():\n",
        "    def __init__(self,capacity,fillValue = None):\n",
        "        self._items=list()\n",
        "        for count in range(capacity):\n",
        "            self._items.append(fillValue)\n",
        "\n",
        "    def __getitem__(self,index):\n",
        "        return self._items[index]\n",
        "\n",
        "    def __setitem__(self,index,newItem):\n",
        "        self._items[index]=newItem\n",
        "\n",
        "    def __len__(self):\n",
        "        return len(self._items)\n",
        "\n",
        "    def __str__(self):\n",
        "        return str(self._items)\n",
        "\n",
        "    def __iter__(self):\n",
        "        return iter(self._items)\n",
        "\n",
        "class ragGrid():\n",
        "\n",
        "    def __init__(self,rows,*col):\n",
        "        self._data = nArray(rows)\n",
        "        for row in range(rows):\n",
        "            self._data[row]=nArray(col[row])\n",
        "    \n",
        "    def gRows(self):\n",
        "        return len(self._data)\n",
        "            \n",
        "    def gCols(self,row_in=None):\n",
        "        if row_in is None:\n",
        "            return [len(self._data[row]) for row in self._data]\n",
        "        else:\n",
        "            return len(self._data[row_in])\n",
        "\n",
        "    def __str__(self):\n",
        "        result = \"\\n\"\n",
        "        for row in range(self.gRows()):\n",
        "            for col in range(self.gCols(row)):\n",
        "                result += repr(self._data[row][col])+ ' '\n",
        "            result += '\\n'\n",
        "        return result\n",
        "\n",
        "first=ragGrid(3,2,4,6)\n",
        "print(first)\n"
      ]
    },
    {
      "cell_type": "markdown",
      "metadata": {
        "id": "TEbtnn-0pg6K",
        "nteract": {
          "transient": {
            "deleting": false
          }
        }
      },
      "source": [
        "\n",
        "\n",
        "### Question 2:\n",
        "A search algorithm `iSearch` and a variable `ilist` have been defined as follows:\n",
        "\n",
        "\n"
      ]
    },
    {
      "cell_type": "code",
      "execution_count": 4,
      "metadata": {
        "execution": {
          "iopub.execute_input": "2020-09-21T20:37:21.272Z",
          "iopub.status.busy": "2020-09-21T20:37:21.262Z",
          "iopub.status.idle": "2020-09-21T20:37:21.293Z",
          "shell.execute_reply": "2020-09-21T20:37:21.301Z"
        },
        "id": "sAiYselppg6K",
        "jupyter": {
          "outputs_hidden": false,
          "source_hidden": false
        },
        "nteract": {
          "transient": {
            "deleting": false
          }
        }
      },
      "outputs": [
        {
          "name": "stdout",
          "output_type": "stream",
          "text": [
            "0\n"
          ]
        }
      ],
      "source": [
        "def iSearch(target, lyst):\n",
        "    left = 0\n",
        "    right = len(lyst) - 1\n",
        "    while left <= right:\n",
        "        midpoint = (left + right) // 2\n",
        "        if target == lyst[midpoint]:\n",
        "            return midpoint\n",
        "        elif target < lyst[midpoint]:\n",
        "            right = midpoint - 1\n",
        "        else:\n",
        "            left = midpoint + 1\n",
        "    return -1\n",
        "\n",
        "iList = [11, 20, 29, 33, 41, 55, 56, 62, 66, 74, 88]\n",
        "print(iSearch(11,iList))"
      ]
    },
    {
      "cell_type": "markdown",
      "metadata": {
        "id": "FRw3RLJ0pg6M",
        "nteract": {
          "transient": {
            "deleting": false
          }
        }
      },
      "source": [
        "**a)**  If the target element is `11`, trace the values of the variables `left`, `right`, and `midpoint` after applying the `iSearch` algorithm to the `iList` structure. \n",
        "\n"
      ]
    },
    {
      "cell_type": "code",
      "execution_count": 6,
      "metadata": {
        "execution": {
          "iopub.execute_input": "2020-09-21T20:37:25.368Z",
          "iopub.status.busy": "2020-09-21T20:37:25.356Z",
          "iopub.status.idle": "2020-09-21T20:37:25.386Z",
          "shell.execute_reply": "2020-09-21T20:37:25.408Z"
        },
        "id": "PWvj1Z6lpg6N",
        "jupyter": {
          "outputs_hidden": false,
          "source_hidden": false
        },
        "nteract": {
          "transient": {
            "deleting": false
          }
        },
        "tags": []
      },
      "outputs": [
        {
          "name": "stdout",
          "output_type": "stream",
          "text": [
            "  Midpoint      Left     Right\n",
            "         5         0         4\n",
            "         2         0         1\n",
            "0\n"
          ]
        }
      ],
      "source": [
        "# 437\n",
        "def iSearch(target, lyst):\n",
        "    left = 0\n",
        "    right = len(lyst) - 1\n",
        "    print(\"%10s%10s%10s\" % (\"Midpoint\",\"Left\",\"Right\"))\n",
        "    while left <= right:\n",
        "        midpoint = (left + right) // 2\n",
        "        if target == lyst[midpoint]:\n",
        "            return midpoint\n",
        "        elif target < lyst[midpoint]:\n",
        "            right = midpoint - 1\n",
        "        else:\n",
        "            left = midpoint + 1\n",
        "        print(\"%10s%10s%10s\" %(midpoint,left,right))\n",
        "    return -1\n",
        "\n",
        "print(iSearch(11,iList))\n"
      ]
    },
    {
      "cell_type": "markdown",
      "metadata": {
        "id": "_13c-rTBnxlK"
      },
      "source": [
        "**b)**  Repeat the tracing process in `Q1a` for target element `55`."
      ]
    },
    {
      "cell_type": "code",
      "execution_count": 7,
      "metadata": {
        "id": "vNoyvywsn81B"
      },
      "outputs": [
        {
          "name": "stdout",
          "output_type": "stream",
          "text": [
            "5\n"
          ]
        }
      ],
      "source": [
        "\n",
        "def iSearch(target, lyst):\n",
        "    left = 0\n",
        "    right = len(lyst) - 1\n",
        "    if target != lyst[(left+right)//2]:\n",
        "        print(\"%10s%10s%10s\" % (\"Midpoint\",\"Left\",\"Right\"))\n",
        "    while left <= right:\n",
        "        midpoint = (left + right) // 2\n",
        "        if target == lyst[midpoint]:\n",
        "            return midpoint\n",
        "        elif target < lyst[midpoint]:\n",
        "            right = midpoint - 1\n",
        "        else:\n",
        "            left = midpoint + 1\n",
        "        print(\"%10s%10s%10s\" %(midpoint,left,right))\n",
        "    return -1\n",
        "\n",
        "print(iSearch(55,iList))\n"
      ]
    },
    {
      "cell_type": "markdown",
      "metadata": {
        "id": "1GzdrbRcoAoZ"
      },
      "source": [
        "**c)**  Why does the iSearch algorithm run faster in `Q1b` scenario than in `Q1a` scenario?"
      ]
    },
    {
      "cell_type": "code",
      "execution_count": null,
      "metadata": {
        "id": "xTJayafQoKPc"
      },
      "outputs": [],
      "source": [
        "#INSERT YOUR ANSWER HERE.\n",
        "# The search algorithm runs faster in Q1b than Q1a because the best-case scenrario occurs in Q1b, O(1). The functions checks the middle value first and 55 happened to be the middle value so the rest of the code did not need to run. "
      ]
    },
    {
      "cell_type": "markdown",
      "metadata": {
        "id": "-jgFidXvoZlL"
      },
      "source": [
        "**d)** Modify the `iSearch` algorithm, so it can run in `Q1a` scenario as fast as it does in `Q1b` scenario."
      ]
    },
    {
      "cell_type": "code",
      "execution_count": 13,
      "metadata": {
        "id": "iXfE02YFpVP8"
      },
      "outputs": [
        {
          "name": "stdout",
          "output_type": "stream",
          "text": [
            "0\n"
          ]
        }
      ],
      "source": [
        "#INSERT YOUR ANSWER HERE.\n",
        "def iSearch(target, lyst):\n",
        "    position = 0\n",
        "    while position <len(lyst):\n",
        "        if target == lyst[position]:\n",
        "            return position\n",
        "        position += 1\n",
        "    return -1\n",
        "\n",
        "print(iSearch(11,iList))\n"
      ]
    },
    {
      "cell_type": "markdown",
      "metadata": {
        "id": "dHN2KMqzm3J8"
      },
      "source": [
        "**e)** For a problem of size $n$, if algorithm `X` performs $n^4$ instructions, and algorithm `Y` performs $2^n$ instructions.  At what point does one of the algorithms begin to be more efficient and perform better than the other? Justify your answer."
      ]
    },
    {
      "cell_type": "code",
      "execution_count": null,
      "metadata": {
        "id": "23cCLhH9oFyU"
      },
      "outputs": [],
      "source": [
        "#INSERT YOUR ANSWER HERE.\n",
        "\"Algorithim Y is exponential meaning that it has a the highest order of complexity.Y would be less efficient as it enters a for loop.\""
      ]
    },
    {
      "cell_type": "markdown",
      "metadata": {
        "id": "M9eJ34NNAvPT"
      },
      "source": [
        "*****"
      ]
    },
    {
      "cell_type": "markdown",
      "metadata": {
        "id": "NNVEX5FMq_I7"
      },
      "source": [
        "### Question 3:\n",
        "\n"
      ]
    },
    {
      "cell_type": "markdown",
      "metadata": {
        "id": "MI9TfOmkHHMT"
      },
      "source": [
        "Emulate the stack behaviour using the list data structure."
      ]
    },
    {
      "cell_type": "markdown",
      "metadata": {
        "id": "oDRF95yUAvPW",
        "pycharm": {
          "name": "#%% md\n"
        }
      },
      "source": [
        "**a)** Complete the methods of the following `Stack` class according to their description"
      ]
    },
    {
      "cell_type": "code",
      "execution_count": 8,
      "metadata": {
        "id": "19WOpUCLMV0c"
      },
      "outputs": [
        {
          "data": {
            "text/plain": [
              "True"
            ]
          },
          "execution_count": 8,
          "metadata": {},
          "output_type": "execute_result"
        }
      ],
      "source": [
        "\n",
        "class Stack:\n",
        "  def __init__(self):\n",
        "    \"\"\" Initialize a new stack \"\"\"\n",
        "    self.elements = []\n",
        "    self._top = -1\n",
        "    self._size = 0\n",
        "  def push(self, new_item):\n",
        "    \"\"\" Append the new item to the stack \"\"\"\n",
        "    self._top += 1\n",
        "    self._size += 1 \n",
        "    self.elements.append(new_item)\n",
        "  def pop(self):\n",
        "    \"\"\" Remove and return the last item from the stack \"\"\"\n",
        "    oldItem = self.elements.pop(self._top)\n",
        "    self._top -= 1\n",
        "    self._size -=1\n",
        "    return oldItem\n",
        "  def size(self):\n",
        "    \"\"\" Return the total number of elements in the stack \"\"\"\n",
        "    return self._size\n",
        "  def is_empty(self):\n",
        "    \"\"\" Return True if the stack is empty and False if it is not empty \"\"\"\n",
        "    return len(self.elements)==0\n",
        "  def peek(self):\n",
        "    \"\"\" Return the element at the top of the stack or return None if the stack is empty \"\"\"\n",
        "    return self.elements[self._top]\n",
        "\n",
        "\n"
      ]
    },
    {
      "cell_type": "markdown",
      "metadata": {
        "id": "YTYiW9MeAvPd"
      },
      "source": [
        "**b)** Use the `Stack` class that you defined in `Q3a` to complete the code of the `is_valid()` function, which checks whether the order of the brackets of an arithmetic expression is correct. Some examples are given below:"
      ]
    },
    {
      "cell_type": "code",
      "execution_count": 9,
      "metadata": {
        "id": "7R1Gvj_DQJ6f"
      },
      "outputs": [],
      "source": [
        "exp1 = \"(2+3)+(1-5)\" # True\n",
        "exp2 = \"((3*2))*(7/3))\" # False\n",
        "exp3 = \"(3*5))]\" # False"
      ]
    },
    {
      "cell_type": "code",
      "execution_count": 10,
      "metadata": {
        "id": "I5xGeroY_EEw"
      },
      "outputs": [
        {
          "data": {
            "text/plain": [
              "False"
            ]
          },
          "execution_count": 10,
          "metadata": {},
          "output_type": "execute_result"
        }
      ],
      "source": [
        "def is_valid(exp):\n",
        "  \"\"\" Check the order of the brackets\n",
        "      Returns True or False\n",
        "  \"\"\"\n",
        "  emp = Stack()\n",
        "  opening = ['(', '[', '{']\n",
        "  closing = [')', ']', '}']\n",
        "  for br in exp:\n",
        "    if br in opening:\n",
        "      emp.push(br)\n",
        "    elif br in closing: \n",
        "      if emp.is_empty():\n",
        "        return False\n",
        "      brFromStack = emp.pop()\n",
        "    if br == closing[0] and brFromStack != opening[0] or \\\n",
        "        br == closing[1] and brFromStack != opening[1] or \\\n",
        "          br == closing[2] and brFromStack != opening[2]:\n",
        "          return False\n",
        "  return emp.is_empty()\n",
        "  \n",
        "is_valid(exp1)\n",
        "is_valid(exp2)\n",
        "is_valid(exp3)"
      ]
    },
    {
      "cell_type": "markdown",
      "metadata": {
        "id": "bHHNxP0IAvPe"
      },
      "source": [
        "**c)** Use the `Stack` class that you defined in `Q3a` to complete the code of the `count_pairs()` function, which returns the number of the valid bracket pairs of an arithmetic expression. Some examples are given below:"
      ]
    },
    {
      "cell_type": "code",
      "execution_count": 22,
      "metadata": {
        "id": "5Yf640FwRG8r"
      },
      "outputs": [],
      "source": [
        "exp1 = \"(2+3)+(1-5)\" # 2 pairs\n",
        "exp2 = \"((([()])))\" # 5 pairs\n",
        "exp3 = \"[([])\" # 2 pairs"
      ]
    },
    {
      "cell_type": "code",
      "execution_count": 31,
      "metadata": {
        "tags": []
      },
      "outputs": [
        {
          "name": "stdout",
          "output_type": "stream",
          "text": [
            "5\n"
          ]
        }
      ],
      "source": [
        "def count_pairs(exp):\n",
        "    expop = Stack()\n",
        "    expcl = Stack()\n",
        "    opening = ['(','[','{']\n",
        "    closing = [')',']','}']\n",
        "    pairs = 0\n",
        "    for ch in exp:\n",
        "        if ch in opening:\n",
        "            expop.push(ch)\n",
        "        elif ch in closing:\n",
        "            expcl.push(ch)\n",
        "    \n",
        "    if expop.size() == expcl.size():\n",
        "        expoplist = []\n",
        "        expcllist = []\n",
        "        for ex in range(expop.size()):\n",
        "            a = expop.pop()\n",
        "            expoplist.append(a)\n",
        "        for excl in range(expcl.size()):\n",
        "            b = expcl.pop()\n",
        "            expcllist.append(b)\n",
        "         \n",
        "        for cl in range(len(expcllist)):\n",
        "            while len(expcllist)>0:\n",
        "                c=expcllist.pop(0)\n",
        "                d=expoplist.pop()\n",
        "                if c == closing[0] and d == opening[0] or c == closing[1] and d==opening[1] or c == closing[2] and d==opening[2]:\n",
        "                    pairs+=1\n",
        "    elif expop.size() > expcl.size():\n",
        "        expoplist = []\n",
        "        expcllist = []\n",
        "        for ex in range(expop.size()):\n",
        "            a = expop.pop()\n",
        "            expoplist.append(a)\n",
        "        \n",
        "        for excl in range(expcl.size()):\n",
        "            b = expcl.pop()\n",
        "            expcllist.append(b)\n",
        "        \n",
        "        for cl in range(len(expcllist)):\n",
        "            while len(expcllist)>0:\n",
        "                c=expcllist.pop()\n",
        "                d=expoplist.pop()\n",
        "                if c == closing[0] and d == opening[0] or c == closing[1] and d==opening[1] or c == closing[2] and d==opening[2]:\n",
        "                    pairs+=1\n",
        "\n",
        "    print(pairs)\n",
        "            \n",
        "  \n",
        "       \n",
        "\n",
        "count_pairs(exp2)"
      ]
    },
    {
      "cell_type": "markdown",
      "metadata": {
        "id": "m4_G4E7t8VWQ"
      },
      "source": [
        "### Question 4:\n",
        "According to each method's documentation, complete the code of the `TextProcessor` class and its subclass `TextAnalyzer`."
      ]
    },
    {
      "cell_type": "code",
      "execution_count": 86,
      "metadata": {},
      "outputs": [
        {
          "name": "stdout",
          "output_type": "stream",
          "text": [
            "The stop words are set to: ['Stop', 'please']\n",
            "The stop words are:  ['Stop', 'please']\n",
            "Can you please stop Jason\n",
            "The stop words are set to: ['a', 'the']\n",
            "{'a': 6, 'quick': 6, 'brown': 6, 'fox': 6, 'jumps': 5, 'over': 4, 'the': 3, 'lazy': 2, 'dog': 1}\n"
          ]
        }
      ],
      "source": [
        "class TextProcessor:\n",
        "  def __init__(self, text):\n",
        "    self.text = text\n",
        "    self.swordslist=[]\n",
        "  def setStopWords(self, *sWords):\n",
        "    ''' set stop words as recieved in the parameters '''\n",
        "    for item in sWords:\n",
        "        sItem = str(item)\n",
        "        self.swordslist.append(sItem)\n",
        "    return print(\"The stop words are set to:\", \"\".join(map(str,self.swordslist)))\n",
        "  def getStopWords(self):\n",
        "    ''' return stop words '''\n",
        "    return print(\"The stop words are: \", \"\".join(map(str,self.swordslist)))\n",
        "  def getUniqWords(self):\n",
        "    return set(self.text.split())\n",
        "  def getFilteredText(self, *fWords):\n",
        "    ''' remove filter words from the text \n",
        "        return filtered text\n",
        "    '''\n",
        "    # return print(fWords)\n",
        "    twordsL = self.text.split()\n",
        "    filtWords = []\n",
        "    for fil in fWords: \n",
        "        fItem = str(fil)\n",
        "        filtWords.append(fil)\n",
        "    for filterword in filtWords:\n",
        "        if filterword in twordsL:\n",
        "            twordsL.remove(filterword)\n",
        "    self.__text=twordsL\n",
        "    return print(self.text)\n",
        "\n",
        "class TextAnalyzer(TextProcessor):\n",
        "    def __init__(self,text):\n",
        "        TextProcessor.__init__(self,text) \n",
        "    \n",
        "    def getWordFrequency(self):\n",
        "        \n",
        "        freqDict = dict()\n",
        "        filtTextList = self.text.split()\n",
        "        \n",
        "        for fword in filtTextList:\n",
        "            if fword not in freqDict.keys(): \n",
        "                freqDict[fword] = 1\n",
        "            else:\n",
        "                freqDict[fword] += 1 \n",
        "        return print(freqDict)\n",
        "        filtTextList = self.getFilteredText()\n",
        "        filWordsSplit = filtTextList.split()\n",
        "        return print(filWordsSplit)\n",
        "    #for filword in filterText:\n",
        "    #    if filword not in freqDict.key():\n",
        "    #        freqDict[filword] = 1\n",
        "    #    else:\n",
        "    #        freqDict[filword] +=1\n",
        "\n",
        "    \n",
        "    ## CODE HERE ##\n",
        " \n",
        "\n",
        "ta = TextAnalyzer(\"a quick brown fox \" + \"a quick brown fox jumps \" + \"a quick brown fox jumps over \" + \"a quick brown fox jumps over the \" + \"a quick brown fox jumps over the lazy \" + \"a quick brown fox jumps over the lazy dog\")\n",
        "ta.setStopWords(['a','the'])\n",
        "ta.getWordFrequency()"
      ]
    },
    {
      "cell_type": "markdown",
      "metadata": {
        "id": "BaAOnvdP-LPK"
      },
      "source": [
        "Verify the correctness of your code using the following steps:\n",
        "\n",
        "1. Instantiate the `TextAnalyzer` class by creating an object called `ta` as follows:\n",
        "\n",
        "`ta = TextAnalyzer(\"a quick brown fox \" + \n",
        "                  \"a quick brown fox jumps \" + \n",
        "                  \"a quick brown fox jumps over \" + \n",
        "                  \"a quick brown fox jumps over the \" + \n",
        "                  \"a quick brown fox jumps over the lazy \" + \n",
        "                  \"a quick brown fox jumps over the lazy dog\")`\n",
        "\n",
        "2. Assign a list of stop words using the `setStopWords()` method:\n",
        "`ta.setStopWords(['a', 'the'])`\n",
        "\n",
        "3. Count the occurrences of each word using the `getWordFrequency()` method:\n",
        "`ta.getWordFrequency()`\n",
        "\n",
        "4. The output should be as follows\n",
        "`{'quick': 6, 'brown': 6, 'fox': 6, 'jumps': 5, 'over': 4, 'lazy': 2, 'dog': 1}}`\n"
      ]
    },
    {
      "cell_type": "markdown",
      "metadata": {
        "collapsed": false,
        "id": "l9l0sjUoAvPk"
      },
      "source": [
        "#### This is the end of assignment\n"
      ]
    }
  ],
  "metadata": {
    "colab": {
      "collapsed_sections": [],
      "name": "CIND830F20 Assignment 3 Q.ipynb",
      "provenance": [],
      "toc_visible": true
    },
    "kernelspec": {
      "display_name": "Python 3.9.0 64-bit",
      "metadata": {
        "interpreter": {
          "hash": "2847895a61c19616d6829a11584a8eec3f4e9de293604e77e87d25114761226f"
        }
      },
      "name": "python3"
    },
    "language_info": {
      "codemirror_mode": {
        "name": "ipython",
        "version": 3
      },
      "file_extension": ".py",
      "mimetype": "text/x-python",
      "name": "python",
      "nbconvert_exporter": "python",
      "pygments_lexer": "ipython3",
      "version": "3.9.0-final"
    },
    "nteract": {
      "version": "0.26.0"
    },
    "varInspector": {
      "cols": {
        "lenName": 16,
        "lenType": 16,
        "lenVar": 40
      },
      "kernels_config": {
        "python": {
          "delete_cmd_postfix": "",
          "delete_cmd_prefix": "del ",
          "library": "var_list.py",
          "varRefreshCmd": "print(var_dic_list())"
        },
        "r": {
          "delete_cmd_postfix": ") ",
          "delete_cmd_prefix": "rm(",
          "library": "var_list.r",
          "varRefreshCmd": "cat(var_dic_list()) "
        }
      },
      "types_to_exclude": [
        "module",
        "function",
        "builtin_function_or_method",
        "instance",
        "_Feature"
      ],
      "window_display": false
    }
  },
  "nbformat": 4,
  "nbformat_minor": 0
}
